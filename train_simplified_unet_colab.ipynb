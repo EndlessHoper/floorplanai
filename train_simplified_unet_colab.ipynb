{
  "cells": [
    {
      "cell_type": "raw",
      "metadata": {
        "vscode": {
          "languageId": "raw"
        }
      },
      "source": [
        "# 🚀 FloorPlan AI - Simplified U-Net Training (Google Colab Optimized)\n",
        "\n",
        "**Goal**: Train a simple U-Net to segment floor plans into 3 classes:\n",
        "- **Background (0)**: Empty space\n",
        "- **Wall (1)**: Wall pixels  \n",
        "- **Room (2)**: Any room pixels (all room types combined)\n",
        "\n",
        "**Colab Optimizations**:\n",
        "- ✅ Automatic GPU detection and setup\n",
        "- ✅ Optimized for Colab's T4/V100/A100 GPUs\n",
        "- ✅ Higher batch sizes for faster training\n",
        "- ✅ Google Drive integration for dataset\n",
        "- ✅ Automatic dependency installation\n"
      ]
    },
    {
      "cell_type": "raw",
      "metadata": {
        "vscode": {
          "languageId": "raw"
        }
      },
      "source": [
        "## 🔧 1. Colab Setup & GPU Check\n"
      ]
    },
    {
      "cell_type": "code",
      "execution_count": null,
      "metadata": {},
      "outputs": [],
      "source": [
        "# Check GPU and setup\n",
        "import torch\n",
        "print(f\"PyTorch version: {torch.__version__}\")\n",
        "print(f\"CUDA available: {torch.cuda.is_available()}\")\n",
        "\n",
        "if torch.cuda.is_available():\n",
        "    gpu_name = torch.cuda.get_device_name(0)\n",
        "    gpu_memory = torch.cuda.get_device_properties(0).total_memory / 1e9\n",
        "    print(f\"🎯 GPU: {gpu_name}\")\n",
        "    print(f\"💾 GPU Memory: {gpu_memory:.1f} GB\")\n",
        "    \n",
        "    # Colab GPU recommendations\n",
        "    if \"T4\" in gpu_name:\n",
        "        recommended_batch = 16\n",
        "        print(\"📊 Recommended batch_size: 16 (T4 GPU)\")\n",
        "    elif \"V100\" in gpu_name or \"A100\" in gpu_name:\n",
        "        recommended_batch = 32\n",
        "        print(\"📊 Recommended batch_size: 32 (High-end GPU)\")\n",
        "    else:\n",
        "        recommended_batch = 12\n",
        "        print(\"📊 Recommended batch_size: 12 (Standard GPU)\")\n",
        "else:\n",
        "    print(\"❌ No GPU available! Go to Runtime → Change runtime type → Hardware accelerator → GPU\")\n",
        "    recommended_batch = 4\n"
      ]
    }
  ],
  "metadata": {
    "language_info": {
      "name": "python"
    }
  },
  "nbformat": 4,
  "nbformat_minor": 2
}
